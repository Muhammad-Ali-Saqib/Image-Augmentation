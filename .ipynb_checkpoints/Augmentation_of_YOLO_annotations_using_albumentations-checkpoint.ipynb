{
 "cells": [
  {
   "cell_type": "code",
   "execution_count": null,
   "id": "49d6e243",
   "metadata": {},
   "outputs": [],
   "source": [
    "import albumentations as alb\n",
    "import copy\n",
    "import time\n",
    "import os\n",
    "import cv2 \n",
    "import numpy as np\n",
    "from matplotlib import pyplot as plt"
   ]
  },
  {
   "cell_type": "code",
   "execution_count": null,
   "id": "77f1e223",
   "metadata": {},
   "outputs": [],
   "source": [
    "augmentor = alb.Compose([alb.RandomCrop(width=640, height=360),\n",
    "                         alb.HorizontalFlip(p=0.5),\n",
    "                         alb.RandomBrightnessContrast(p=0.2),\n",
    "                         alb.RandomGamma(p=0.2), \n",
    "                         alb.RGBShift(p=0.2), \n",
    "                         alb.VerticalFlip(p=0.5)], \n",
    "                       bbox_params=alb.BboxParams(format='yolo', \n",
    "                                                  label_fields=['class_labels'],\n",
    "                                                  min_area=1024, #remove this if your objects are small\n",
    "                                                  min_visibility=0.3)) # remove this contraint if your objects are small"
   ]
  },
  {
   "cell_type": "code",
   "execution_count": null,
   "id": "2e0ffd98",
   "metadata": {},
   "outputs": [],
   "source": [
    "# Your \"Main_folder\" should contain two folders \"orignal\" and \"augmented\"\n",
    "# \"orignal\" and \"augmented\" folders should contain two sub-folders, \"images\" and \"labels\" folder \n",
    "\n",
    "# \"orignal\" folder should contain data to be augmented.\n",
    "\n",
    "for image in os.listdir(os.path.join(\"Main_folder\",\"orignal\",\"images\")): \n",
    "    orignal_image = cv2.imread(os.path.join(\"Main_folder\",\"orignal\",\"images\",image))\n",
    "    bbox_file=os.path.join(\"Main_folder\",\"orignal\",\"labels\", image.split(\".\")[0]+\".txt\")\n",
    "    \n",
    "    orignal_image = cv2.cvtColor(orignal_image, cv2.COLOR_BGR2RGB)\n",
    "    \n",
    "    org_bbox=[]\n",
    "    class_labels =[]\n",
    "    \n",
    "    if os.path.exists(bbox_file):\n",
    "        bbox_file =open(bbox_file,\"r\")\n",
    "        for line in bbox_file:\n",
    "            org_bbox.append(list(map(float,line.split())))\n",
    "        bbox_file.close()\n",
    "    else:\n",
    "        continue\n",
    "    \n",
    "    \n",
    "    for col in org_bbox:\n",
    "        class_labels.append(col[0])\n",
    "        del col[0]\n",
    "    \n",
    "    try:\n",
    "        for x in range(60):\n",
    "            print(class_labels)\n",
    "            augmented = augmentor(image=orignal_image, bboxes=org_bbox, class_labels=class_labels)\n",
    "            #print(augmented['class_labels'])\n",
    "            cv2.imwrite(os.path.join(\"Main_folder\",\"augmented\",\"images\",f'{image.split(\".\")[0]}_{x}.jpg'), augmented['image'])\n",
    "            txt_file = open(os.path.join(\"Main_folder\",\"augmented\",\"labels\",f'{image.split(\".\")[0]}_{x}.txt'),\"w\")\n",
    "            \n",
    "            for items in augmented['bboxes']:\n",
    "                label = 0\n",
    "                txt_file.write(str(int(augmented['class_labels'][label])))\n",
    "                txt_file.write(\" \")\n",
    "                for n in items:\n",
    "                    txt_file.write(str(n))\n",
    "                    txt_file.write(\" \")\n",
    "                if label < len(augmented['bboxes']) :\n",
    "                    txt_file.write(\"\\n\")\n",
    "                label += 1\n",
    "            \n",
    "            txt_file.close()\n",
    "                \n",
    "    except Exception as e:\n",
    "        print(e)\n",
    "            "
   ]
  }
 ],
 "metadata": {
  "kernelspec": {
   "display_name": "Python 3 (ipykernel)",
   "language": "python",
   "name": "python3"
  },
  "language_info": {
   "codemirror_mode": {
    "name": "ipython",
    "version": 3
   },
   "file_extension": ".py",
   "mimetype": "text/x-python",
   "name": "python",
   "nbconvert_exporter": "python",
   "pygments_lexer": "ipython3",
   "version": "3.8.10"
  }
 },
 "nbformat": 4,
 "nbformat_minor": 5
}
