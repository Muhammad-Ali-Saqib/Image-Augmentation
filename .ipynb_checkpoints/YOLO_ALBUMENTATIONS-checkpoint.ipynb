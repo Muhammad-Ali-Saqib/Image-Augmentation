{
 "cells": [
  {
   "cell_type": "code",
   "execution_count": null,
   "id": "49d6e243",
   "metadata": {},
   "outputs": [],
   "source": [
    "import albumentations as alb\n",
    "import copy\n",
    "import time\n",
    "import os\n",
    "import cv2 \n",
    "import numpy as np\n",
    "from matplotlib import pyplot as plt"
   ]
  },
  {
   "cell_type": "code",
   "execution_count": null,
   "id": "77f1e223",
   "metadata": {},
   "outputs": [],
   "source": [
    "augmentor = alb.Compose([alb.RandomCrop(width=640, height=360), \n",
    "                         alb.HorizontalFlip(p=0.5), \n",
    "                         alb.RandomBrightnessContrast(p=0.2),\n",
    "                         alb.RandomGamma(p=0.2), \n",
    "                         alb.RGBShift(p=0.2), \n",
    "                         alb.VerticalFlip(p=0.5)], \n",
    "                       bbox_params=alb.BboxParams(format='yolo', \n",
    "                                                  label_fields=['class_labels'],\n",
    "                                                  min_area=1024, \n",
    "                                                  min_visibility=0.3))"
   ]
  },
  {
   "cell_type": "code",
   "execution_count": null,
   "id": "12f542b0",
   "metadata": {},
   "outputs": [],
   "source": [
    "img = cv2.imread(os.path.join('weeddata','orignal','images','weed8.jpg'))"
   ]
  },
  {
   "cell_type": "code",
   "execution_count": null,
   "id": "88e6b6bf",
   "metadata": {},
   "outputs": [],
   "source": [
    "img = cv2.cvtColor(img, cv2.COLOR_BGR2RGB)"
   ]
  },
  {
   "cell_type": "code",
   "execution_count": null,
   "id": "d39362fe",
   "metadata": {},
   "outputs": [],
   "source": [
    "plt.imshow(img)"
   ]
  },
  {
   "cell_type": "code",
   "execution_count": null,
   "id": "7bc006cd",
   "metadata": {},
   "outputs": [],
   "source": [
    "boxlist=[]\n",
    "boxlist.clear()\n",
    "bboxfile=open(os.path.join('weeddata','orignal','labels','weed8.txt'))\n",
    "for line in bboxfile:\n",
    "    boxlist.append(list(map(float,(line.split()))))\n",
    "boxlist"
   ]
  },
  {
   "cell_type": "code",
   "execution_count": null,
   "id": "e8b0f9de",
   "metadata": {},
   "outputs": [],
   "source": [
    "class_labels =[]\n",
    "for col in boxlist:\n",
    "    class_labels.append(col[0])\n",
    "    del col[0]\n",
    "    "
   ]
  },
  {
   "cell_type": "code",
   "execution_count": null,
   "id": "e9b0ebdf",
   "metadata": {},
   "outputs": [],
   "source": [
    "class_labels"
   ]
  },
  {
   "cell_type": "code",
   "execution_count": null,
   "id": "d98508b5",
   "metadata": {},
   "outputs": [],
   "source": [
    "boxlist\n",
    "#boxlist = np.array(boxlist)"
   ]
  },
  {
   "cell_type": "code",
   "execution_count": null,
   "id": "7007215b",
   "metadata": {},
   "outputs": [],
   "source": [
    "w = 1280\n",
    "h = 720\n",
    "coords=[]\n",
    "coords.clear()\n",
    "for ls in boxlist:\n",
    "    x1 = int( float(float(ls[0]) * w ))\n",
    "    y1 = int( float(float(ls[1]) * h ))\n",
    "    xw = int( float(float(ls[2]) * w /2))\n",
    "    yw = int( float(float(ls[3]) * h /2))\n",
    "    \n",
    "    #coords.append([(float(float(ls[0]) * w )-float(float(ls[2]) * w /2))/w,\n",
    "    #               (float(float(ls[1]) * h )-float(float(ls[3]) * h /2))/h,\n",
    "    #               (float(float(ls[0]) * w )+float(float(ls[2]) * w /2))/w,\n",
    "    #               (float(float(ls[1]) * h )+float(float(ls[3]) * h /2))/h])\n",
    "    \n",
    "    coords.append([x1,y1,xw,yw])\n",
    "    \n",
    "    start_point = (x1 - xw, y1 - yw )\n",
    "    end_point = (x1 + xw, y1 + yw )\n",
    "    thickness =5\n",
    "    cv2.rectangle(img,start_point,end_point,(250,250,0),thickness)\n",
    "             \n",
    "plt.imshow(img)"
   ]
  },
  {
   "cell_type": "code",
   "execution_count": null,
   "id": "b3271f49",
   "metadata": {},
   "outputs": [],
   "source": [
    "coords"
   ]
  },
  {
   "cell_type": "code",
   "execution_count": null,
   "id": "e41c6f46",
   "metadata": {},
   "outputs": [],
   "source": [
    "augmented = augmentor(image=img, bboxes=boxlist, class_labels=class_labels)"
   ]
  },
  {
   "cell_type": "code",
   "execution_count": null,
   "id": "67dd9a5a",
   "metadata": {},
   "outputs": [],
   "source": [
    "augmented['bboxes']"
   ]
  },
  {
   "cell_type": "code",
   "execution_count": null,
   "id": "d88282cd",
   "metadata": {},
   "outputs": [],
   "source": [
    "transformed =augmented['bboxes']\n",
    "len(transformed[0])"
   ]
  },
  {
   "cell_type": "code",
   "execution_count": null,
   "id": "fd9910eb",
   "metadata": {},
   "outputs": [],
   "source": [
    "for x in range(60):\n",
    "    augmented = augmentor(image=img, bboxes=boxlist, class_labels=class_labels)\n",
    "    print(augmented['class_labels'])\n",
    "    cv2.imwrite(os.path.join(\"weeddata\",\"augmented\",\"images\",\"myfile.jpg\"),augmented['image'])\n",
    "    file =open(os.path.join(\"weeddata\",\"augmented\",\"labels\",\"myfile.txt\"), \"w\")\n",
    "    for i in transformed:\n",
    "        label =0\n",
    "        file.write(str(int(augmented['class_labels'][label])))\n",
    "        file.write(\" \")\n",
    "        for n in i:\n",
    "            file.write(str(n))\n",
    "            file.write(\" \")\n",
    "        if label < 4 :\n",
    "            file.write(\"\\n\")\n",
    "        label += 1\n",
    "    file.close()\n",
    "    \n"
   ]
  },
  {
   "cell_type": "code",
   "execution_count": null,
   "id": "406984c0",
   "metadata": {},
   "outputs": [],
   "source": [
    "augmented['class_labels']"
   ]
  },
  {
   "cell_type": "code",
   "execution_count": null,
   "id": "773d1a4d",
   "metadata": {},
   "outputs": [],
   "source": [
    "#cv2.putText(augmented['image'],\n",
    "#            augmented['class_labels'][0],(int((augmented['bboxes'][0][0])*640)*10,int((augmented['bboxes'][0][1])*320)*10),\n",
    "#            cv2.FONT_HERSHEY_SIMPLEX,\n",
    "#            1,\n",
    "#            (0,250,250),\n",
    "#            5)\n",
    "plt.imshow(augmented['image'])"
   ]
  },
  {
   "cell_type": "code",
   "execution_count": null,
   "id": "7e7f039f",
   "metadata": {},
   "outputs": [],
   "source": [
    "plt.imshow(augmented['image'])"
   ]
  },
  {
   "cell_type": "code",
   "execution_count": null,
   "id": "2e0ffd98",
   "metadata": {},
   "outputs": [],
   "source": [
    "for image in os.listdir(os.path.join(\"weeddata\",\"orignal\",\"images\")):\n",
    "    orignal_image = cv2.imread(os.path.join(\"weeddata\",\"orignal\",\"images\",image))\n",
    "    bbox_file=os.path.join(\"weeddata\",\"orignal\",\"labels\", image.split(\".\")[0]+\".txt\")\n",
    "    \n",
    "    orignal_image = cv2.cvtColor(orignal_image, cv2.COLOR_BGR2RGB)\n",
    "    \n",
    "    org_bbox=[]\n",
    "    class_labels =[]\n",
    "    alb_bbox = []\n",
    "    \n",
    "    if os.path.exists(bbox_file):\n",
    "        bbox_file =open(bbox_file,\"r\")\n",
    "        for line in bbox_file:\n",
    "            org_bbox.append(list(map(float,line.split())))\n",
    "        bbox_file.close()\n",
    "    else:\n",
    "        continue\n",
    "    \n",
    "    alb_bbox=copy.deepcopy(org_bbox)\n",
    "   \n",
    "    for col in alb_bbox:\n",
    "        class_labels.append(col[0])\n",
    "        del col[0]\n",
    "    \n",
    "    w = 640\n",
    "    h = 360\n",
    "    coords=[]\n",
    "    \n",
    "    for ls in alb_bbox:\n",
    "        x1 = float(float(ls[0]) * w )\n",
    "        y1 = float(float(ls[1]) * h )\n",
    "        xw = float(ls[2]) \n",
    "        yw = float(ls[3]) \n",
    "    \n",
    "        #coords.append([(float(float(ls[0]) * w )-float(float(ls[2]) * w /2))/w,\n",
    "        #               (float(float(ls[1]) * h )-float(float(ls[3]) * h /2))/h,\n",
    "        #               (float(float(ls[0]) * w )+float(float(ls[2]) * w /2))/w,\n",
    "        #               (float(float(ls[1]) * h )+float(float(ls[3]) * h /2))/h])\n",
    "       \n",
    "        \n",
    "        #print(x1,y1,xw,yw)\n",
    "        coords.append([((x1+xw)/2)/640,\n",
    "                       ((y1+yw)/2)/360,\n",
    "                       xw/640,\n",
    "                       yw/360])\n",
    "    try:\n",
    "        for x in range(60):\n",
    "            print(class_labels)\n",
    "            augmented = augmentor(image=orignal_image, bboxes=alb_bbox, class_labels=class_labels)\n",
    "            #print(augmented['class_labels'])\n",
    "            cv2.imwrite(os.path.join(\"weeddata\",\"augmented\",\"images\",f'{image.split(\".\")[0]}_{x}.jpg'), augmented['image'])\n",
    "            txt_file = open(os.path.join(\"weeddata\",\"augmented\",\"labels\",f'{image.split(\".\")[0]}_{x}.txt'),\"w\")\n",
    "            \n",
    "            for items in augmented['bboxes']:\n",
    "                label = 0\n",
    "                txt_file.write(str(int(augmented['class_labels'][label])))\n",
    "                txt_file.write(\" \")\n",
    "                for n in items:\n",
    "                    txt_file.write(str(n))\n",
    "                    txt_file.write(\" \")\n",
    "                if label < len(augmented['bboxes']) :\n",
    "                    txt_file.write(\"\\n\")\n",
    "                label += 1\n",
    "            \n",
    "            txt_file.close()\n",
    "                \n",
    "    except Exception as e:\n",
    "        print(e)\n",
    "            "
   ]
  },
  {
   "cell_type": "code",
   "execution_count": null,
   "id": "714ec0b6",
   "metadata": {},
   "outputs": [],
   "source": [
    "org_bbox.clear()\n",
    "    class_labels.clear()\n",
    "    alb_bbox.clear()\n",
    "    coords.clear()\n",
    "class_labels"
   ]
  }
 ],
 "metadata": {
  "kernelspec": {
   "display_name": "Python 3 (ipykernel)",
   "language": "python",
   "name": "python3"
  },
  "language_info": {
   "codemirror_mode": {
    "name": "ipython",
    "version": 3
   },
   "file_extension": ".py",
   "mimetype": "text/x-python",
   "name": "python",
   "nbconvert_exporter": "python",
   "pygments_lexer": "ipython3",
   "version": "3.8.10"
  }
 },
 "nbformat": 4,
 "nbformat_minor": 5
}
