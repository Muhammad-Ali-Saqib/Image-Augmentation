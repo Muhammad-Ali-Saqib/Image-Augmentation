{
 "cells": [
  {
   "cell_type": "code",
   "execution_count": 1,
   "id": "49d6e243",
   "metadata": {},
   "outputs": [],
   "source": [
    "import albumentations as alb\n",
    "import copy\n",
    "import time\n",
    "import os\n",
    "from PIL import Image\n",
    "import numpy as np\n",
    "import cv2\n",
    "from matplotlib import pyplot as plt"
   ]
  },
  {
   "cell_type": "code",
   "execution_count": 2,
   "id": "77f1e223",
   "metadata": {},
   "outputs": [],
   "source": [
    "augmentor = alb.Compose([#alb.RandomCrop(width=640, height=360), \n",
    "                         alb.HorizontalFlip(p=0.5), \n",
    "                         alb.RandomBrightnessContrast(p=0.2),\n",
    "                         alb.RandomGamma(p=0.2), \n",
    "                         alb.RGBShift(p=0.2), \n",
    "                         alb.VerticalFlip(p=0.5)])"
   ]
  },
  {
   "cell_type": "code",
   "execution_count": null,
   "id": "80d0b328",
   "metadata": {},
   "outputs": [],
   "source": [
    "original_dataset = os.path.join(\"D:\\\\\",\"original\")\n",
    "augmented_dataset = os.path.join(\"D:\\\\\",\"augmented\")"
   ]
  },
  {
   "cell_type": "code",
   "execution_count": 12,
   "id": "2e0ffd98",
   "metadata": {},
   "outputs": [],
   "source": [
    "for image in os.listdir(original_dataset):\n",
    "    orignal_image = cv2.imread(os.path.join(original_dataset, image))\n",
    "   \n",
    "    try:\n",
    "        for x in range(10):\n",
    "            augmented = augmentor(image=orignal_image )\n",
    "            cv2.imwrite(os.path.join(augmented_dataset,f'{image.split(\".\")[0]}_{x}.jpg'), augmented['image'])\n",
    "            \n",
    "    except Exception as e:\n",
    "        print(e)\n"
   ]
  }
 ],
 "metadata": {
  "kernelspec": {
   "display_name": "Python 3.8.10 64-bit",
   "language": "python",
   "name": "python3"
  },
  "language_info": {
   "codemirror_mode": {
    "name": "ipython",
    "version": 3
   },
   "file_extension": ".py",
   "mimetype": "text/x-python",
   "name": "python",
   "nbconvert_exporter": "python",
   "pygments_lexer": "ipython3",
   "version": "3.8.10"
  },
  "vscode": {
   "interpreter": {
    "hash": "570feb405e2e27c949193ac68f46852414290d515b0ba6e5d90d076ed2284471"
   }
  }
 },
 "nbformat": 4,
 "nbformat_minor": 5
}
