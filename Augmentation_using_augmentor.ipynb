{
 "cells": [
  {
   "cell_type": "code",
   "execution_count": 4,
   "id": "fb9d1a83",
   "metadata": {},
   "outputs": [],
   "source": [
    "import Augmentor as aug"
   ]
  },
  {
   "cell_type": "code",
   "execution_count": 5,
   "id": "8df2e301",
   "metadata": {},
   "outputs": [
    {
     "name": "stdout",
     "output_type": "stream",
     "text": [
      "Initialised with 65 image(s) found.\n",
      "Output directory set to D:\\Fiver\\padded_color\\Apple\\output."
     ]
    }
   ],
   "source": [
    "pipeline_Obj = aug.Pipeline(r\"D:\\Fiver\\padded_color\\Apple\")"
   ]
  },
  {
   "cell_type": "code",
   "execution_count": 7,
   "id": "b4e60639",
   "metadata": {},
   "outputs": [],
   "source": [
    "pipeline_Obj.zoom(probability = 0.3, min_factor = 0.8, max_factor = 1.5)"
   ]
  },
  {
   "cell_type": "code",
   "execution_count": 8,
   "id": "59b76831",
   "metadata": {},
   "outputs": [],
   "source": [
    "pipeline_Obj.flip_top_bottom(probability = 0.4)"
   ]
  },
  {
   "cell_type": "code",
   "execution_count": 9,
   "id": "253b44b8",
   "metadata": {},
   "outputs": [],
   "source": [
    "pipeline_Obj.rotate(probability=0.7, max_left_rotation=10, max_right_rotation=10)"
   ]
  },
  {
   "cell_type": "code",
   "execution_count": 10,
   "id": "ed34ad10",
   "metadata": {},
   "outputs": [],
   "source": [
    "pipeline_Obj.flip_left_right(probability=0.5)"
   ]
  },
  {
   "cell_type": "code",
   "execution_count": 11,
   "id": "1f6ba242",
   "metadata": {},
   "outputs": [],
   "source": [
    "pipeline_Obj.random_brightness(probability = 0.3, min_factor = 0.3, max_factor = 1.2)"
   ]
  },
  {
   "cell_type": "code",
   "execution_count": 12,
   "id": "958f3bfa",
   "metadata": {},
   "outputs": [],
   "source": [
    "pipeline_Obj.random_distortion(probability = 0.7, grid_width = 4, grid_height = 4, magnitude = 8)"
   ]
  },
  {
   "cell_type": "code",
   "execution_count": 13,
   "id": "b078025f",
   "metadata": {},
   "outputs": [
    {
     "name": "stderr",
     "output_type": "stream",
     "text": [
      "Processing <PIL.Image.Image image mode=RGB size=3456x5184 at 0x20B0CB3F1F0>: 100%|█| 400/400 [17:37<00:00,  2.64s/ Samp\n"
     ]
    }
   ],
   "source": [
    "pipeline_Obj.sample(400)"
   ]
  }
 ],
 "metadata": {
  "kernelspec": {
   "display_name": "Python 3 (ipykernel)",
   "language": "python",
   "name": "python3"
  },
  "language_info": {
   "codemirror_mode": {
    "name": "ipython",
    "version": 3
   },
   "file_extension": ".py",
   "mimetype": "text/x-python",
   "name": "python",
   "nbconvert_exporter": "python",
   "pygments_lexer": "ipython3",
   "version": "3.8.10"
  }
 },
 "nbformat": 4,
 "nbformat_minor": 5
}
