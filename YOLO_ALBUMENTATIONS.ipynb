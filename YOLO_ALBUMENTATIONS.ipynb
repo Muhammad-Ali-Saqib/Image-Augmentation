{
 "cells": [
  {
   "cell_type": "code",
   "execution_count": null,
   "id": "49d6e243",
   "metadata": {},
   "outputs": [],
   "source": [
    "import albumentations as alb\n",
    "import copy\n",
    "import time\n",
    "import os\n",
    "import cv2 \n",
    "import numpy as np\n",
    "from matplotlib import pyplot as plt\n",
    "from math import log10, floor\n",
    "import uuid"
   ]
  },
  {
   "cell_type": "code",
   "execution_count": null,
   "id": "e1d6bfb9",
   "metadata": {},
   "outputs": [],
   "source": [
    "original_images = os.path.join(\"main_folder\",\"class3\",\"images\")\n",
    "original_labels = os.path.join(\"main_folder\",\"class3\",\"labels\")"
   ]
  },
  {
   "cell_type": "code",
   "execution_count": null,
   "id": "263dd2f8",
   "metadata": {},
   "outputs": [],
   "source": [
    "# Change this variable according to your output images you need\n",
    "output_images = 13"
   ]
  },
  {
   "cell_type": "code",
   "execution_count": 1,
   "id": "1ccf59e2",
   "metadata": {},
   "outputs": [
    {
     "ename": "NameError",
     "evalue": "name 'original_images' is not defined",
     "output_type": "error",
     "traceback": [
      "\u001b[1;31m---------------------------------------------------------------------------\u001b[0m",
      "\u001b[1;31mNameError\u001b[0m                                 Traceback (most recent call last)",
      "\u001b[1;32m~\\AppData\\Local\\Temp/ipykernel_8504/1932779963.py\u001b[0m in \u001b[0;36m<module>\u001b[1;34m\u001b[0m\n\u001b[0;32m      1\u001b[0m \u001b[1;31m# Set these paths if you want your own paths\u001b[0m\u001b[1;33m\u001b[0m\u001b[1;33m\u001b[0m\u001b[1;33m\u001b[0m\u001b[0m\n\u001b[1;32m----> 2\u001b[1;33m \u001b[0maugmented_images\u001b[0m \u001b[1;33m=\u001b[0m \u001b[0mos\u001b[0m\u001b[1;33m.\u001b[0m\u001b[0mpath\u001b[0m\u001b[1;33m.\u001b[0m\u001b[0mjoin\u001b[0m\u001b[1;33m(\u001b[0m\u001b[0mos\u001b[0m\u001b[1;33m.\u001b[0m\u001b[0mpath\u001b[0m\u001b[1;33m.\u001b[0m\u001b[0mdirname\u001b[0m\u001b[1;33m(\u001b[0m\u001b[0mos\u001b[0m\u001b[1;33m.\u001b[0m\u001b[0mpath\u001b[0m\u001b[1;33m.\u001b[0m\u001b[0mdirname\u001b[0m\u001b[1;33m(\u001b[0m\u001b[0moriginal_images\u001b[0m\u001b[1;33m)\u001b[0m\u001b[1;33m)\u001b[0m\u001b[1;33m,\u001b[0m\u001b[1;34m\"augmented_data\"\u001b[0m\u001b[1;33m,\u001b[0m\u001b[1;34m\"images\"\u001b[0m\u001b[1;33m)\u001b[0m\u001b[1;33m\u001b[0m\u001b[1;33m\u001b[0m\u001b[0m\n\u001b[0m\u001b[0;32m      3\u001b[0m \u001b[0maugmented_labels\u001b[0m \u001b[1;33m=\u001b[0m \u001b[0mos\u001b[0m\u001b[1;33m.\u001b[0m\u001b[0mpath\u001b[0m\u001b[1;33m.\u001b[0m\u001b[0mjoin\u001b[0m\u001b[1;33m(\u001b[0m\u001b[0mos\u001b[0m\u001b[1;33m.\u001b[0m\u001b[0mpath\u001b[0m\u001b[1;33m.\u001b[0m\u001b[0mdirname\u001b[0m\u001b[1;33m(\u001b[0m\u001b[0maugmented_images\u001b[0m\u001b[1;33m)\u001b[0m\u001b[1;33m,\u001b[0m\u001b[1;34m\"labels\"\u001b[0m\u001b[1;33m)\u001b[0m\u001b[1;33m\u001b[0m\u001b[1;33m\u001b[0m\u001b[0m\n\u001b[0;32m      4\u001b[0m \u001b[1;33m\u001b[0m\u001b[0m\n\u001b[0;32m      5\u001b[0m \u001b[0mprint\u001b[0m\u001b[1;33m(\u001b[0m\u001b[1;34m\"Augmented dataset path : \"\u001b[0m \u001b[1;33m+\u001b[0m \u001b[0mos\u001b[0m\u001b[1;33m.\u001b[0m\u001b[0mpath\u001b[0m\u001b[1;33m.\u001b[0m\u001b[0mdirname\u001b[0m\u001b[1;33m(\u001b[0m\u001b[0maugmented_images\u001b[0m\u001b[1;33m)\u001b[0m\u001b[1;33m)\u001b[0m\u001b[1;33m\u001b[0m\u001b[1;33m\u001b[0m\u001b[0m\n",
      "\u001b[1;31mNameError\u001b[0m: name 'original_images' is not defined"
     ]
    }
   ],
   "source": [
    "# Set these paths if you want your own paths \n",
    "augmented_images = os.path.join(os.path.dirname(os.path.dirname(original_images)),\"augmented_data\",\"images\")\n",
    "augmented_labels = os.path.join(os.path.dirname(augmented_images),\"labels\")\n",
    "\n",
    "print(\"Augmented dataset path : \" + os.path.dirname(augmented_images))"
   ]
  },
  {
   "cell_type": "code",
   "execution_count": null,
   "id": "77f1e223",
   "metadata": {},
   "outputs": [],
   "source": [
    "augmentor = alb.Compose([alb.RandomCrop(width=1280, height=720),\n",
    "                         alb.HorizontalFlip(p=0.5),\n",
    "                         alb.RandomBrightnessContrast(p=0.2),\n",
    "                         alb.RandomGamma(p=0.2), \n",
    "                         alb.RGBShift(p=0.2), \n",
    "                         alb.VerticalFlip(p=0.5)], \n",
    "                       bbox_params=alb.BboxParams(format='yolo', \n",
    "                                                  label_fields=['class_labels'],\n",
    "                                                  min_area=1024, #remove this if your objects are small\n",
    "                                                  min_visibility=0.3)) # remove this contraint if your objects are small"
   ]
  },
  {
   "cell_type": "code",
   "execution_count": null,
   "id": "6eac11c8",
   "metadata": {},
   "outputs": [],
   "source": [
    "# function for writting every parameter in 8 digits according to YOLO default length\n",
    "def round_off(n):\n",
    "    n = str(round(n, 6-int(floor(log10(abs(n))))-1))\n",
    "    if len(n) > 8:\n",
    "        n = n[:8]\n",
    "    elif len(n) == 3:\n",
    "        n = n +\"00000\"\n",
    "    elif len(n) == 4:\n",
    "        n = n +\"0000\"\n",
    "    elif len(n) == 5:\n",
    "        n = n +\"000\"\n",
    "    elif len(n) == 6:\n",
    "        n = n +\"00\"\n",
    "    elif len(n) == 7:\n",
    "        n = n +\"0\"\n",
    "    return n"
   ]
  },
  {
   "cell_type": "code",
   "execution_count": null,
   "id": "2e0ffd98",
   "metadata": {},
   "outputs": [],
   "source": [
    "os.makedirs(augmented_images)\n",
    "os.makedirs(augmented_labels)\n",
    "\n",
    "for image in os.listdir(original_images): \n",
    "    \n",
    "    orignal_image = cv2.imread(os.path.join(original_images,image)) \n",
    "    bbox_file=os.path.join(original_labels, image.split(\".\")[0]+\".txt\") \n",
    "    \n",
    "    # comment it if output image color is not natural (optional)\n",
    "    orignal_image = cv2.cvtColor(orignal_image, cv2.COLOR_BGR2RGB)\n",
    "    \n",
    "    # declarations\n",
    "    org_bbox=[]\n",
    "    class_labels =[]\n",
    "    \n",
    "    # getting bounding box from file into memory\n",
    "    if os.path.exists(bbox_file):\n",
    "        bbox_file =open(bbox_file,\"r\")\n",
    "        for line in bbox_file:\n",
    "            org_bbox.append(list(map(float,line.split())))\n",
    "        bbox_file.close()\n",
    "    else:\n",
    "        continue\n",
    "    \n",
    "    # separating labels and bounding box in two different lists    \n",
    "    for col in org_bbox:\n",
    "        class_labels.append(col[0])\n",
    "        del col[0]\n",
    "        \n",
    "    \n",
    "    # This is the main loop\n",
    "    try:\n",
    "        for x in range(output_images):\n",
    "            \n",
    "            # main augmenting function\n",
    "            augmented = augmentor(image=orignal_image, bboxes=org_bbox, class_labels=class_labels)\n",
    "            \n",
    "            # for different file name in every iteration but same for both image and txt file\n",
    "            name = str(uuid.uuid4().hex)\n",
    "            \n",
    "            # checking if there is no bounding box then don't save that image and txt file\n",
    "            if len(augmented['bboxes']) != 0:\n",
    "                \n",
    "                # for saving augmented image\n",
    "                cv2.imwrite(os.path.join(augmented_images,f'{name}.jpg'), augmented['image'])\n",
    "                \n",
    "                # making txt file with same name as img file with .txt extention\n",
    "                txt_file = open(os.path.join(augmented_labels,f'{name}.txt'),\"w\")\n",
    "                \n",
    "                # for saving parameters in txt file\n",
    "                for items in augmented['bboxes']:\n",
    "                    \n",
    "                    # counter for each line in bbox\n",
    "                    label = 0                \n",
    "                    \n",
    "                    # first writting label\n",
    "                    txt_file.write(str(int(augmented['class_labels'][label])))\n",
    "                    \n",
    "                    # a space after label\n",
    "                    txt_file.write(\" \")\n",
    "                    \n",
    "                    # writing four parameters of bbox\n",
    "                    for n in items:\n",
    "                        \n",
    "                        # writting every parameter in 8 digits according to YOLO default length\n",
    "                        txt_file.write(round_off(n))\n",
    "                        \n",
    "                        # a space after parameter\n",
    "                        txt_file.write(\" \")\n",
    "                        \n",
    "                    # writting untill all parameters against each class are not written\n",
    "                    if label < len(augmented['bboxes']) :\n",
    "                        txt_file.write(\"\\n\")\n",
    "                        \n",
    "                    # increment in counter\n",
    "                    label += 1\n",
    "                \n",
    "                # clossing the txt file of bbox\n",
    "                txt_file.close()\n",
    "            \n",
    "    # for dealing with any unexpected exception\n",
    "    except Exception as e:\n",
    "        print(e)\n",
    "            "
   ]
  }
 ],
 "metadata": {
  "kernelspec": {
   "display_name": "Python 3.8.10 64-bit",
   "language": "python",
   "name": "python3"
  },
  "language_info": {
   "codemirror_mode": {
    "name": "ipython",
    "version": 3
   },
   "file_extension": ".py",
   "mimetype": "text/x-python",
   "name": "python",
   "nbconvert_exporter": "python",
   "pygments_lexer": "ipython3",
   "version": "3.8.10"
  },
  "vscode": {
   "interpreter": {
    "hash": "570feb405e2e27c949193ac68f46852414290d515b0ba6e5d90d076ed2284471"
   }
  }
 },
 "nbformat": 4,
 "nbformat_minor": 5
}
